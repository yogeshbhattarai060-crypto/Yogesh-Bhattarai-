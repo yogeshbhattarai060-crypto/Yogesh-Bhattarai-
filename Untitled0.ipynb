{
  "nbformat": 4,
  "nbformat_minor": 0,
  "metadata": {
    "colab": {
      "provenance": [],
      "authorship_tag": "ABX9TyOAHN5aUIG7YUAeCgnWWtj7",
      "include_colab_link": true
    },
    "kernelspec": {
      "name": "python3",
      "display_name": "Python 3"
    },
    "language_info": {
      "name": "python"
    }
  },
  "cells": [
    {
      "cell_type": "markdown",
      "metadata": {
        "id": "view-in-github",
        "colab_type": "text"
      },
      "source": [
        "<a href=\"https://colab.research.google.com/github/yogeshbhattarai060-crypto/Yogesh-Bhattarai-/blob/main/Untitled0.ipynb\" target=\"_parent\"><img src=\"https://colab.research.google.com/assets/colab-badge.svg\" alt=\"Open In Colab\"/></a>"
      ]
    },
    {
      "cell_type": "code",
      "execution_count": null,
      "metadata": {
        "colab": {
          "base_uri": "https://localhost:8080/"
        },
        "id": "Zh-8nPdMDAZW",
        "outputId": "eb3ee160-cf29-4951-c225-dd5a013efe5b"
      },
      "outputs": [
        {
          "output_type": "stream",
          "name": "stdout",
          "text": [
            "[0. 0. 0. 0. 0. 0. 0. 1.]\n"
          ]
        }
      ],
      "source": [
        "import numpy as np\n",
        "\n",
        "arr=np.zeros(8)\n",
        "\n",
        "arr[-1]=1\n",
        "print(arr)"
      ]
    },
    {
      "cell_type": "code",
      "source": [
        "rr = np.arange(1, 45, 4)\n",
        "\n",
        "reversed_arr = arr[::-1]\n",
        "\n",
        "print(reversed_arr)"
      ],
      "metadata": {
        "colab": {
          "base_uri": "https://localhost:8080/"
        },
        "id": "1XtP9nvjDF0m",
        "outputId": "e18a7f0a-1de4-45f4-ba0c-4380ea704374"
      },
      "execution_count": null,
      "outputs": [
        {
          "output_type": "stream",
          "name": "stdout",
          "text": [
            "[1. 0. 0. 0. 0. 0. 0. 0.]\n"
          ]
        }
      ]
    },
    {
      "cell_type": "code",
      "source": [
        "my_list=[4,8,12,16]\n",
        "arr=np.array(my_list)\n",
        "arr=arr*2\n",
        "print(arr)"
      ],
      "metadata": {
        "colab": {
          "base_uri": "https://localhost:8080/"
        },
        "id": "3nS1Aa-gDJ8E",
        "outputId": "aed81b33-e0a6-45b7-f3a6-f17104722f97"
      },
      "execution_count": null,
      "outputs": [
        {
          "output_type": "stream",
          "name": "stdout",
          "text": [
            "[ 8 16 24 32]\n"
          ]
        }
      ]
    },
    {
      "cell_type": "code",
      "source": [
        "arr = np.empty(9)\n",
        "for i in range(9):\n",
        "    arr[i] = i\n",
        "print(arr)"
      ],
      "metadata": {
        "colab": {
          "base_uri": "https://localhost:8080/"
        },
        "id": "N_liBki7DNMp",
        "outputId": "b009e2e7-9a46-4837-fc98-31315cd0b9ea"
      },
      "execution_count": null,
      "outputs": [
        {
          "output_type": "stream",
          "name": "stdout",
          "text": [
            "[0. 1. 2. 3. 4. 5. 6. 7. 8.]\n"
          ]
        }
      ]
    },
    {
      "cell_type": "code",
      "source": [
        "arr_float = np.ones(4)\n",
        "arr_int = arr_float.astype(int)\n",
        "\n",
        "print(arr_int)\n",
        "print(\"Data type:\", arr_int.dtype)"
      ],
      "metadata": {
        "colab": {
          "base_uri": "https://localhost:8080/"
        },
        "id": "YP8GD9QpDQ0U",
        "outputId": "6df029d1-a3bd-486c-b2dd-b82a3a57548e"
      },
      "execution_count": null,
      "outputs": [
        {
          "output_type": "stream",
          "name": "stdout",
          "text": [
            "[1 1 1 1]\n",
            "Data type: int64\n"
          ]
        }
      ]
    },
    {
      "cell_type": "markdown",
      "source": [
        "Write a Python program that appends user input to a file until the user types \"exit\"."
      ],
      "metadata": {
        "id": "x01KoPtUDlgI"
      }
    },
    {
      "cell_type": "code",
      "source": [
        "def append_to_file():\n",
        "    try:\n",
        "        with open(\"user_input.txt\", \"a\") as file:\n",
        "            while True:\n",
        "                text = input(\"Enter text (type 'exit' to stop): \")\n",
        "                if text.lower() == \"exit\":\n",
        "                    break\n",
        "                file.write(text + \"\\n\")\n",
        "        print(\"Data saved to file.\")\n",
        "    except Exception as e:\n",
        "        print(\"An error occurred:\", e)\n",
        "\n",
        "append_to_file()"
      ],
      "metadata": {
        "id": "nS-9PQ_iDTzO"
      },
      "execution_count": null,
      "outputs": []
    },
    {
      "cell_type": "markdown",
      "source": [
        "Apply Negative Indexing in Numpy Array"
      ],
      "metadata": {
        "id": "N3k-IFuyEDkX"
      }
    },
    {
      "cell_type": "markdown",
      "source": [
        "import numpy as np\n",
        "\n",
        "\n",
        "  \n"
      ],
      "metadata": {
        "id": "hs2LQal7EIvl"
      }
    },
    {
      "cell_type": "code",
      "source": [
        "arr = np.array([10, 30,40,60,80])\n",
        "\n",
        "print(\"Original array:\", arr)\n",
        "\n",
        "\n",
        "print(\"Last element:\", arr[-1])\n",
        "print(\"Second last element:\", arr[-2])\n",
        "print(\"Third last element:\", arr[-3])"
      ],
      "metadata": {
        "id": "mGvxsUsZEey0"
      },
      "execution_count": null,
      "outputs": []
    },
    {
      "cell_type": "code",
      "source": [
        "import numpy as np\n",
        "\n",
        "arr = np.array([10, 15, 20, 25, 30, 35, 40])\n",
        "\n",
        "\n",
        "even_numbers = arr[arr % 2 == 0]#masking"
      ],
      "metadata": {
        "id": "KBdnVhY_Efuh"
      },
      "execution_count": null,
      "outputs": []
    },
    {
      "cell_type": "code",
      "source": [
        "array=np.array([1,2,3,4,5,6,7])\n",
        "bolean= array1 >4\n",
        "print(array1[bolean])\n",
        "print(bolean)\n"
      ],
      "metadata": {
        "id": "0fBTkPy2FTfb"
      },
      "execution_count": null,
      "outputs": []
    },
    {
      "cell_type": "code",
      "source": [
        "array =np.random.rand(10)\n",
        "print(array)\n",
        "print(array)\n"
      ],
      "metadata": {
        "id": "b6D9EbHeKKUl"
      },
      "execution_count": null,
      "outputs": []
    },
    {
      "cell_type": "markdown",
      "source": [
        "Create an array of number from 1  to 100 and print only even numbers from that"
      ],
      "metadata": {
        "id": "p4a-lTb0HtOJ"
      }
    },
    {
      "cell_type": "code",
      "source": [
        "import numpy as np\n",
        "\n",
        "\n",
        "arraylin = np.arange(1, 101)\n",
        "\n",
        "\n",
        "even_number = arraylin[arraylin % 2 == 0]\n",
        "\n",
        "print(even_number)\n"
      ],
      "metadata": {
        "id": "UpB-mDGvH7-h",
        "colab": {
          "base_uri": "https://localhost:8080/"
        },
        "outputId": "86850c77-69cf-469a-f2ed-d74d7eb070af"
      },
      "execution_count": null,
      "outputs": [
        {
          "output_type": "stream",
          "name": "stdout",
          "text": [
            "[  2   4   6   8  10  12  14  16  18  20  22  24  26  28  30  32  34  36\n",
            "  38  40  42  44  46  48  50  52  54  56  58  60  62  64  66  68  70  72\n",
            "  74  76  78  80  82  84  86  88  90  92  94  96  98 100]\n"
          ]
        }
      ]
    },
    {
      "cell_type": "markdown",
      "source": [
        "Slice and print every third element starting from index 1"
      ],
      "metadata": {
        "id": "tUjt9ea7Imf-"
      }
    },
    {
      "cell_type": "code",
      "source": [
        "import numpy as np\n",
        "arr = np.array([5, 10, 15, 20, 25, 30, 35, 40, 45, 50])\n",
        "print(arr[1::3])\n"
      ],
      "metadata": {
        "id": "4cxmy4bMIwsm"
      },
      "execution_count": null,
      "outputs": []
    },
    {
      "cell_type": "markdown",
      "source": [
        "Print the last 4 elements using negative indexing"
      ],
      "metadata": {
        "id": "qeWJ-LHNJg2o"
      }
    },
    {
      "cell_type": "code",
      "source": [
        "import numpy as np\n",
        "arr = np.array([5, 10, 15, 20, 25, 30, 35, 40, 45, 50])\n",
        "print(arr[-4:])"
      ],
      "metadata": {
        "id": "dhqBjEG5JgKW"
      },
      "execution_count": null,
      "outputs": []
    },
    {
      "cell_type": "markdown",
      "source": [
        "Replace the values at even indices with -1"
      ],
      "metadata": {
        "id": "a6i0nNkEJ-ug"
      }
    },
    {
      "cell_type": "code",
      "source": [
        "mport numpy as np\n",
        "arr = np.array([5, 10, 15, 20, 25, 30, 35, 40, 45, 50])\n",
        "arr[::2] = -1\n",
        "print(arr)"
      ],
      "metadata": {
        "id": "Bq4M0HHTIzwl"
      },
      "execution_count": null,
      "outputs": []
    },
    {
      "cell_type": "markdown",
      "source": [
        "Use fancy indexing to extract the values at positions [2, 4, 6, 8]"
      ],
      "metadata": {
        "id": "HNwnlvBFKUff"
      }
    },
    {
      "cell_type": "code",
      "source": [
        "import numpy as np\n",
        "arr = np.array([5, 10, 15, 20, 25, 30, 35, 40, 45, 50])\n",
        "selected = arr[[2, 4, 6, 8]]\n",
        "print(selected)"
      ],
      "metadata": {
        "id": "YYCwiRIkKaBY"
      },
      "execution_count": null,
      "outputs": []
    }
  ]
}