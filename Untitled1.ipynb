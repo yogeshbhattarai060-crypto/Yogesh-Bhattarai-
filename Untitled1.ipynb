{
  "nbformat": 4,
  "nbformat_minor": 0,
  "metadata": {
    "colab": {
      "provenance": [],
      "authorship_tag": "ABX9TyOqEKfTdqCXbJZMkJ3CIwJT",
      "include_colab_link": true
    },
    "kernelspec": {
      "name": "python3",
      "display_name": "Python 3"
    },
    "language_info": {
      "name": "python"
    }
  },
  "cells": [
    {
      "cell_type": "markdown",
      "metadata": {
        "id": "view-in-github",
        "colab_type": "text"
      },
      "source": [
        "<a href=\"https://colab.research.google.com/github/yogeshbhattarai060-crypto/Yogesh-Bhattarai-/blob/main/Untitled1.ipynb\" target=\"_parent\"><img src=\"https://colab.research.google.com/assets/colab-badge.svg\" alt=\"Open In Colab\"/></a>"
      ]
    },
    {
      "cell_type": "code",
      "execution_count": null,
      "metadata": {
        "colab": {
          "base_uri": "https://localhost:8080/"
        },
        "id": "I9-SGzdsX8fZ",
        "outputId": "d7ae4a07-6bbd-4baa-951e-cd6a30989e75"
      },
      "outputs": [
        {
          "output_type": "stream",
          "name": "stdout",
          "text": [
            "[15 25 35 45]\n"
          ]
        }
      ],
      "source": [
        "import numpy as np\n",
        "arr = np.array([5, 10, 15, 20, 25, 30, 35, 40, 45, 50])\n",
        "selected = arr[[2, 4, 6, 8]]\n",
        "print(selected)"
      ]
    },
    {
      "cell_type": "code",
      "source": [
        "import numpy as np\n",
        "\n",
        "arr = np.array([10, 20, 30, 40, 50])\n",
        "\n",
        "# Create mask: condition -> values greater than 25\n",
        "mask = arr > 25\n",
        "\n",
        "print(\"Mask:\", mask)        # [False False  True  True  True]\n",
        "print(\"Filtered:\", arr[mask])  # [30 40 50]\n"
      ],
      "metadata": {
        "colab": {
          "base_uri": "https://localhost:8080/"
        },
        "id": "LhnSfrZPYK8T",
        "outputId": "8349a455-b647-4ea6-af9d-22924a4437b0"
      },
      "execution_count": null,
      "outputs": [
        {
          "output_type": "stream",
          "name": "stdout",
          "text": [
            "Mask: [False False  True  True  True]\n",
            "Filtered: [30 40 50]\n"
          ]
        }
      ]
    },
    {
      "cell_type": "code",
      "source": [
        "a = np.array([1, 2, 3])      # Shape: (3,)\n",
        "b = np.array([[1, 2], [3, 4]]) # Shape: (2,2)\n",
        "\n",
        "print(a > b)  # Error!\n"
      ],
      "metadata": {
        "colab": {
          "base_uri": "https://localhost:8080/",
          "height": 180
        },
        "id": "ntiMWUOqcCrI",
        "outputId": "517c1768-9afd-4876-9c25-58473c31bc52"
      },
      "execution_count": null,
      "outputs": [
        {
          "output_type": "error",
          "ename": "ValueError",
          "evalue": "operands could not be broadcast together with shapes (3,) (2,2) ",
          "traceback": [
            "\u001b[0;31m---------------------------------------------------------------------------\u001b[0m",
            "\u001b[0;31mValueError\u001b[0m                                Traceback (most recent call last)",
            "\u001b[0;32m/tmp/ipython-input-741152433.py\u001b[0m in \u001b[0;36m<cell line: 0>\u001b[0;34m()\u001b[0m\n\u001b[1;32m      2\u001b[0m \u001b[0mb\u001b[0m \u001b[0;34m=\u001b[0m \u001b[0mnp\u001b[0m\u001b[0;34m.\u001b[0m\u001b[0marray\u001b[0m\u001b[0;34m(\u001b[0m\u001b[0;34m[\u001b[0m\u001b[0;34m[\u001b[0m\u001b[0;36m1\u001b[0m\u001b[0;34m,\u001b[0m \u001b[0;36m2\u001b[0m\u001b[0;34m]\u001b[0m\u001b[0;34m,\u001b[0m \u001b[0;34m[\u001b[0m\u001b[0;36m3\u001b[0m\u001b[0;34m,\u001b[0m \u001b[0;36m4\u001b[0m\u001b[0;34m]\u001b[0m\u001b[0;34m]\u001b[0m\u001b[0;34m)\u001b[0m \u001b[0;31m# Shape: (2,2)\u001b[0m\u001b[0;34m\u001b[0m\u001b[0;34m\u001b[0m\u001b[0m\n\u001b[1;32m      3\u001b[0m \u001b[0;34m\u001b[0m\u001b[0m\n\u001b[0;32m----> 4\u001b[0;31m \u001b[0mprint\u001b[0m\u001b[0;34m(\u001b[0m\u001b[0ma\u001b[0m \u001b[0;34m>\u001b[0m \u001b[0mb\u001b[0m\u001b[0;34m)\u001b[0m  \u001b[0;31m# Error!\u001b[0m\u001b[0;34m\u001b[0m\u001b[0;34m\u001b[0m\u001b[0m\n\u001b[0m",
            "\u001b[0;31mValueError\u001b[0m: operands could not be broadcast together with shapes (3,) (2,2) "
          ]
        }
      ]
    },
    {
      "cell_type": "code",
      "source": [
        "import numpy as np\n",
        "from scipy import stats\n",
        "\n",
        "arr = np.array([1, 2, 2, 3, 4, 2, 3])\n",
        "\n",
        "mode = stats.mode(arr)\n",
        "\n",
        "print(\"Mode:\", mode.mode[0])\n",
        "print(\"Count:\", mode.count[0])\n"
      ],
      "metadata": {
        "colab": {
          "base_uri": "https://localhost:8080/",
          "height": 198
        },
        "id": "MbBszYaXc37a",
        "outputId": "21cc6d7a-d8e3-474c-afb2-9c70bf55b50f"
      },
      "execution_count": null,
      "outputs": [
        {
          "output_type": "error",
          "ename": "IndexError",
          "evalue": "invalid index to scalar variable.",
          "traceback": [
            "\u001b[0;31m---------------------------------------------------------------------------\u001b[0m",
            "\u001b[0;31mIndexError\u001b[0m                                Traceback (most recent call last)",
            "\u001b[0;32m/tmp/ipython-input-903750466.py\u001b[0m in \u001b[0;36m<cell line: 0>\u001b[0;34m()\u001b[0m\n\u001b[1;32m      6\u001b[0m \u001b[0mmode\u001b[0m \u001b[0;34m=\u001b[0m \u001b[0mstats\u001b[0m\u001b[0;34m.\u001b[0m\u001b[0mmode\u001b[0m\u001b[0;34m(\u001b[0m\u001b[0marr\u001b[0m\u001b[0;34m)\u001b[0m\u001b[0;34m\u001b[0m\u001b[0;34m\u001b[0m\u001b[0m\n\u001b[1;32m      7\u001b[0m \u001b[0;34m\u001b[0m\u001b[0m\n\u001b[0;32m----> 8\u001b[0;31m \u001b[0mprint\u001b[0m\u001b[0;34m(\u001b[0m\u001b[0;34m\"Mode:\"\u001b[0m\u001b[0;34m,\u001b[0m \u001b[0mmode\u001b[0m\u001b[0;34m.\u001b[0m\u001b[0mmode\u001b[0m\u001b[0;34m[\u001b[0m\u001b[0;36m0\u001b[0m\u001b[0;34m]\u001b[0m\u001b[0;34m)\u001b[0m\u001b[0;34m\u001b[0m\u001b[0;34m\u001b[0m\u001b[0m\n\u001b[0m\u001b[1;32m      9\u001b[0m \u001b[0mprint\u001b[0m\u001b[0;34m(\u001b[0m\u001b[0;34m\"Count:\"\u001b[0m\u001b[0;34m,\u001b[0m \u001b[0mmode\u001b[0m\u001b[0;34m.\u001b[0m\u001b[0mcount\u001b[0m\u001b[0;34m[\u001b[0m\u001b[0;36m0\u001b[0m\u001b[0;34m]\u001b[0m\u001b[0;34m)\u001b[0m\u001b[0;34m\u001b[0m\u001b[0;34m\u001b[0m\u001b[0m\n",
            "\u001b[0;31mIndexError\u001b[0m: invalid index to scalar variable."
          ]
        }
      ]
    },
    {
      "cell_type": "code",
      "source": [
        "import numpy as np\n",
        "from scipy import stats\n",
        "\n",
        "arr = np.array([1, 2, 2, 3, 4, 2, 3])\n",
        "\n",
        "mode_result = stats.mode(arr, keepdims=False)\n",
        "\n",
        "print(\"Mode:\", mode_result.mode)\n",
        "print(\"Count:\", mode_result.count)\n"
      ],
      "metadata": {
        "colab": {
          "base_uri": "https://localhost:8080/"
        },
        "id": "3-PjM8EHgDwl",
        "outputId": "81b44f1f-7758-4bcd-e94b-c5709520c1e3"
      },
      "execution_count": null,
      "outputs": [
        {
          "output_type": "stream",
          "name": "stdout",
          "text": [
            "Mode: 2\n",
            "Count: 3\n"
          ]
        }
      ]
    },
    {
      "cell_type": "code",
      "source": [
        "import numpy as np\n",
        "arr2d = np.array([[1, 2, 3],\n",
        "                  [4, 5, 6],\n",
        "                  [7, 8, 9]])\n",
        "\n",
        "print(arr2d[0:2, 1:3])   # rows 0-1, cols 1-2 → [[2 3]\n",
        "                         #                       [5 6]]\n",
        "\n",
        "print(arr2d[:, 1])       # all rows, column 1 → [2 5 8]\n",
        "\n",
        "print(arr2d[1, :])       # row 1, all cols → [4 5 6]\n"
      ],
      "metadata": {
        "id": "fA8OiVu3gI4Q",
        "colab": {
          "base_uri": "https://localhost:8080/"
        },
        "outputId": "8d48f8a7-8129-4337-984e-fb90e9aa3ee0"
      },
      "execution_count": null,
      "outputs": [
        {
          "output_type": "stream",
          "name": "stdout",
          "text": [
            "[[2 3]\n",
            " [5 6]]\n",
            "[2 5 8]\n",
            "[4 5 6]\n"
          ]
        }
      ]
    },
    {
      "cell_type": "code",
      "source": [
        "import numpy as np\n",
        "\n",
        "identity = np.eye(8)  # 3x3 identity\n",
        "print(identity)\n"
      ],
      "metadata": {
        "colab": {
          "base_uri": "https://localhost:8080/"
        },
        "id": "Hd-9lW_lsKks",
        "outputId": "2b8d8456-75d0-46ff-cbeb-e76b19685576"
      },
      "execution_count": null,
      "outputs": [
        {
          "output_type": "stream",
          "name": "stdout",
          "text": [
            "[[1. 0. 0. 0. 0. 0. 0. 0.]\n",
            " [0. 1. 0. 0. 0. 0. 0. 0.]\n",
            " [0. 0. 1. 0. 0. 0. 0. 0.]\n",
            " [0. 0. 0. 1. 0. 0. 0. 0.]\n",
            " [0. 0. 0. 0. 1. 0. 0. 0.]\n",
            " [0. 0. 0. 0. 0. 1. 0. 0.]\n",
            " [0. 0. 0. 0. 0. 0. 1. 0.]\n",
            " [0. 0. 0. 0. 0. 0. 0. 1.]]\n"
          ]
        }
      ]
    },
    {
      "cell_type": "code",
      "source": [
        "import numpy as np\n",
        "\n",
        "arr = np.array([0, np.pi/4, np.pi/2])\n",
        "\n",
        "print(\"sin:\", np.sin(arr))\n",
        "print(\"cos:\", np.cos(arr))\n",
        "print(\"tan:\", np.tan(arr))\n"
      ],
      "metadata": {
        "colab": {
          "base_uri": "https://localhost:8080/"
        },
        "id": "B11RNkBd4NXK",
        "outputId": "146218e7-85fc-49d8-ef59-2f209cce990b"
      },
      "execution_count": null,
      "outputs": [
        {
          "output_type": "stream",
          "name": "stdout",
          "text": [
            "sin: [0.         0.70710678 1.        ]\n",
            "cos: [1.00000000e+00 7.07106781e-01 6.12323400e-17]\n",
            "tan: [0.00000000e+00 1.00000000e+00 1.63312394e+16]\n"
          ]
        }
      ]
    },
    {
      "cell_type": "markdown",
      "source": [
        "convert 2d array to 3d array and 3d array to 2d array"
      ],
      "metadata": {
        "id": "3QiPChnWPJZz"
      }
    },
    {
      "cell_type": "code",
      "source": [
        "import numpy as np\n",
        "\n",
        "arr2d = np.array([[1, 2, 3],\n",
        "                  [4, 5, 6]])\n",
        "\n",
        "arr3d = arr2d.reshape((2, 3, 1))\n",
        "\n",
        "print(arr3d)\n",
        "print(arr3d.shape)\n"
      ],
      "metadata": {
        "id": "xe-KaMZG7New",
        "colab": {
          "base_uri": "https://localhost:8080/"
        },
        "outputId": "ff3452a6-7c4a-4b6f-cad2-31b47fcdbc56"
      },
      "execution_count": null,
      "outputs": [
        {
          "output_type": "stream",
          "name": "stdout",
          "text": [
            "[[[1]\n",
            "  [2]\n",
            "  [3]]\n",
            "\n",
            " [[4]\n",
            "  [5]\n",
            "  [6]]]\n",
            "(2, 3, 1)\n"
          ]
        }
      ]
    },
    {
      "cell_type": "markdown",
      "source": [
        "Slice the 2d array in the similar way\n"
      ],
      "metadata": {
        "id": "pnx7YZsQQbjq"
      }
    },
    {
      "cell_type": "code",
      "source": [
        "import numpy as np\n",
        "\n",
        "arr2d = np.array([[1, 2, 3, 4],\n",
        "                  [5, 6, 7, 8],\n",
        "                  [9, 10, 11, 12]])\n",
        "\n",
        "print(\"Original 2D array:\\n\", arr2d)\n",
        "\n",
        "slice1 = arr2d[0:2, 1:3]\n",
        "slice2 = arr2d[:, ::2]\n",
        "slice3 = arr2d[1:, 2:]\n",
        "\n",
        "print(\"\\nSlice 0:2, 1:3\\n\", slice1)\n",
        "print(\"\\nSlice all rows, every 2nd column\\n\", slice2)\n",
        "print(\"\\nSlice from row 1 to end, column 2 to end\\n\", slice3)\n"
      ],
      "metadata": {
        "colab": {
          "base_uri": "https://localhost:8080/"
        },
        "id": "tLljIgHdPj9F",
        "outputId": "6ee631a9-924e-43de-e723-7ac7be6d9804"
      },
      "execution_count": null,
      "outputs": [
        {
          "output_type": "stream",
          "name": "stdout",
          "text": [
            "Original 2D array:\n",
            " [[ 1  2  3  4]\n",
            " [ 5  6  7  8]\n",
            " [ 9 10 11 12]]\n",
            "\n",
            "Slice 0:2, 1:3\n",
            " [[2 3]\n",
            " [6 7]]\n",
            "\n",
            "Slice all rows, every 2nd column\n",
            " [[ 1  3]\n",
            " [ 5  7]\n",
            " [ 9 11]]\n",
            "\n",
            "Slice from row 1 to end, column 2 to end\n",
            " [[ 7  8]\n",
            " [11 12]]\n"
          ]
        }
      ]
    },
    {
      "cell_type": "markdown",
      "source": [
        "Explore slicing and Indexing in 2d and 3d array and also use negative indexing"
      ],
      "metadata": {
        "id": "vis9PYLeQdmn"
      }
    },
    {
      "cell_type": "code",
      "source": [
        "import numpy as np\n",
        "\n",
        "arr2d = np.array([[1, 2, 3, 4],\n",
        "                  [5, 6, 7, 8],\n",
        "                  [9, 10, 11, 12]])\n",
        "\n",
        "print(\"Original 2D array:\\n\", arr2d)\n",
        "print(\"\\nSlice 0:2, 1:3:\\n\", arr2d[0:2, 1:3])\n",
        "print(\"\\nAll rows, every 2nd column:\\n\", arr2d[:, ::2])\n",
        "print(\"\\nLast row, last two columns:\\n\", arr2d[-1, -2:])\n"
      ],
      "metadata": {
        "colab": {
          "base_uri": "https://localhost:8080/"
        },
        "id": "cGdLcgdNQdaH",
        "outputId": "436ddc7a-a66b-43ae-e9c9-a799a17a9453"
      },
      "execution_count": null,
      "outputs": [
        {
          "output_type": "stream",
          "name": "stdout",
          "text": [
            "Original 2D array:\n",
            " [[ 1  2  3  4]\n",
            " [ 5  6  7  8]\n",
            " [ 9 10 11 12]]\n",
            "\n",
            "Slice 0:2, 1:3:\n",
            " [[2 3]\n",
            " [6 7]]\n",
            "\n",
            "All rows, every 2nd column:\n",
            " [[ 1  3]\n",
            " [ 5  7]\n",
            " [ 9 11]]\n",
            "\n",
            "Last row, last two columns:\n",
            " [11 12]\n"
          ]
        }
      ]
    },
    {
      "cell_type": "markdown",
      "source": [
        "Create a NumPy array of numbers from 10 to 50."
      ],
      "metadata": {
        "id": "ElRv-aO3SEOR"
      }
    },
    {
      "cell_type": "code",
      "source": [
        "import numpy as np\n",
        "\n",
        "arr = np.arange(10, 51)\n",
        "print(arr)\n"
      ],
      "metadata": {
        "colab": {
          "base_uri": "https://localhost:8080/"
        },
        "id": "SPzek9jPR7Pl",
        "outputId": "0ddd054c-a1f5-4bff-b151-bc137ccfac90"
      },
      "execution_count": null,
      "outputs": [
        {
          "output_type": "stream",
          "name": "stdout",
          "text": [
            "[10 11 12 13 14 15 16 17 18 19 20 21 22 23 24 25 26 27 28 29 30 31 32 33\n",
            " 34 35 36 37 38 39 40 41 42 43 44 45 46 47 48 49 50]\n"
          ]
        }
      ]
    },
    {
      "cell_type": "markdown",
      "source": [
        "Generate a 3×3 identity matrix."
      ],
      "metadata": {
        "id": "AjWkh9_ZSUmN"
      }
    },
    {
      "cell_type": "code",
      "source": [
        "import numpy as np\n",
        "\n",
        "identity_matrix = np.eye(3)\n",
        "print(identity_matrix)\n"
      ],
      "metadata": {
        "colab": {
          "base_uri": "https://localhost:8080/"
        },
        "id": "seogmWPNST3m",
        "outputId": "2676c4d9-60a6-4fb8-9fa2-02f04080ab0c"
      },
      "execution_count": null,
      "outputs": [
        {
          "output_type": "stream",
          "name": "stdout",
          "text": [
            "[[1. 0. 0.]\n",
            " [0. 1. 0.]\n",
            " [0. 0. 1.]]\n"
          ]
        }
      ]
    },
    {
      "cell_type": "markdown",
      "source": [
        "Create a NumPy array of 10 random integers between 1 and 100."
      ],
      "metadata": {
        "id": "Npchrgl5TcuF"
      }
    },
    {
      "cell_type": "code",
      "source": [
        "import numpy as np\n",
        "\n",
        "random_integers = np.random.randint(1)\n",
        "print(random_integers)\n"
      ],
      "metadata": {
        "colab": {
          "base_uri": "https://localhost:8080/"
        },
        "id": "bmte4BtPTAMl",
        "outputId": "fbaad749-1282-435b-fcbc-d9195b656c3a"
      },
      "execution_count": null,
      "outputs": [
        {
          "output_type": "stream",
          "name": "stdout",
          "text": [
            "[71 50 83 93 68 86 48 15 27 68]\n"
          ]
        }
      ]
    },
    {
      "cell_type": "markdown",
      "source": [
        "Find the maximum and minimum of an array."
      ],
      "metadata": {
        "id": "y6bV7QvaTrON"
      }
    },
    {
      "cell_type": "code",
      "source": [
        "import numpy as np\n",
        "\n",
        "arr = np.array([10, 20, 50, 40, 30])\n",
        "\n",
        "maximum = arr.max()\n",
        "minimum = arr.min()\n",
        "\n",
        "print(\"Maximum:\", maximum)\n",
        "print(\"Minimum:\", minimum)\n"
      ],
      "metadata": {
        "colab": {
          "base_uri": "https://localhost:8080/"
        },
        "id": "fwT-lqVzTGe-",
        "outputId": "6c026df1-de9d-4a52-8550-94b2bcd59897"
      },
      "execution_count": null,
      "outputs": [
        {
          "output_type": "stream",
          "name": "stdout",
          "text": [
            "Maximum: 50\n",
            "Minimum: 10\n"
          ]
        }
      ]
    },
    {
      "cell_type": "markdown",
      "source": [
        "Reshape a 1D array of 12 elements into a 3×4 matrix."
      ],
      "metadata": {
        "id": "aSlbTySTT8iy"
      }
    },
    {
      "cell_type": "code",
      "source": [
        "import numpy as np\n",
        "\n",
        "arr1d = np.arange(1, 13)\n",
        "arr2d = arr1d.reshape(3, 4)\n",
        "\n",
        "print(arr2d)\n"
      ],
      "metadata": {
        "colab": {
          "base_uri": "https://localhost:8080/"
        },
        "id": "FBWo1CsCToGj",
        "outputId": "81342d3a-e2fd-46f6-8769-f3a0f95cf56a"
      },
      "execution_count": null,
      "outputs": [
        {
          "output_type": "stream",
          "name": "stdout",
          "text": [
            "[[ 1  2  3  4]\n",
            " [ 5  6  7  8]\n",
            " [ 9 10 11 12]]\n"
          ]
        }
      ]
    },
    {
      "cell_type": "markdown",
      "source": [
        "Create an array of all even numbers between 50 and 100.\n"
      ],
      "metadata": {
        "id": "wrsYet1Ij16b"
      }
    },
    {
      "cell_type": "code",
      "source": [
        "import numpy as np\n",
        "\n",
        "even_numbers = np.arange(50, 101, 2)\n",
        "print(even_numbers)\n"
      ],
      "metadata": {
        "colab": {
          "base_uri": "https://localhost:8080/"
        },
        "id": "cKJGHrgwUDy3",
        "outputId": "4daa5d9d-6556-4a98-9396-a0c4816eebf9"
      },
      "execution_count": null,
      "outputs": [
        {
          "output_type": "stream",
          "name": "stdout",
          "text": [
            "[ 50  52  54  56  58  60  62  64  66  68  70  72  74  76  78  80  82  84\n",
            "  86  88  90  92  94  96  98 100]\n"
          ]
        }
      ]
    },
    {
      "cell_type": "markdown",
      "source": [
        "Given an array [1,2,3,4,5], compute the square of each element."
      ],
      "metadata": {
        "id": "AOL06dFBkQmg"
      }
    },
    {
      "cell_type": "code",
      "source": [
        "import numpy as np\n",
        "\n",
        "arr = np.array([1, 2, 3, 4, 5])\n",
        "squared = arr ** 2\n",
        "\n",
        "print(squared)\n"
      ],
      "metadata": {
        "id": "S7eDfgGMkMzS"
      },
      "execution_count": null,
      "outputs": []
    },
    {
      "cell_type": "code",
      "source": [
        "Create two arrays and perform element-wise operations"
      ],
      "metadata": {
        "id": "P85WSIDPk_2P"
      },
      "execution_count": null,
      "outputs": []
    },
    {
      "cell_type": "code",
      "source": [
        "a = np.array([1, 2, 3])\n",
        "b = np.array([4, 5, 6])\n",
        "\n",
        "addition = a + b\n",
        "subtraction = a - b\n",
        "multiplication = a * b\n",
        "division = a / b\n",
        "\n",
        "print(\"Addition:\", addition)\n",
        "print(\"Subtraction:\", subtraction)\n",
        "print(\"Multiplication:\", multiplication)\n",
        "print(\"Division:\", division)\n"
      ],
      "metadata": {
        "colab": {
          "base_uri": "https://localhost:8080/"
        },
        "id": "QYokeE7qkMGQ",
        "outputId": "99348f4c-87ff-4f06-e1ac-2b036329d868"
      },
      "execution_count": null,
      "outputs": [
        {
          "output_type": "stream",
          "name": "stdout",
          "text": [
            "Addition: [5 7 9]\n",
            "Subtraction: [-3 -3 -3]\n",
            "Multiplication: [ 4 10 18]\n",
            "Division: [0.25 0.4  0.5 ]\n"
          ]
        }
      ]
    }
  ]
}